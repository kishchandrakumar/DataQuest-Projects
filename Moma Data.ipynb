{
 "cells": [
  {
   "cell_type": "markdown",
   "metadata": {},
   "source": [
    "## Cleaning and Preparing Data in Python\n",
    "#### Lesson 1\n",
    "\n",
    "CSV is a module built into python, it has the function reader.\n",
    "We first Open the csv file, then interpret (or parse) it, then convert into a list"
   ]
  },
  {
   "cell_type": "code",
   "execution_count": 1,
   "metadata": {},
   "outputs": [
    {
     "name": "stdout",
     "output_type": "stream",
     "text": [
      "\n",
      "['Title', 'Artist', 'Nationality', 'BeginDate', 'EndDate', 'Gender', 'Date', 'Department']\n",
      "\n",
      "['Dress MacLeod from Tartan Sets', 'Sarah Charlesworth', '(American)', '(1947)', '(2013)', '(Female)', '1986', 'Prints & Illustrated Books']\n",
      "\n",
      "['Duplicate of plate from folio 11 verso (supplementary suite, plate 4) from ARDICIA', 'Pablo Palazuelo', '(Spanish)', '(1916)', '(2007)', '(Male)', '1978', 'Prints & Illustrated Books']\n"
     ]
    }
   ],
   "source": [
    "from csv import reader\n",
    "opened = open(\"artworks.csv\")\n",
    "read = reader(opened)\n",
    "Artwork = list(read)\n",
    "\n",
    "for i in range(3): # ie 0,1,2\n",
    "    print(f\"\\n{Artwork[i]}\") #prints index 0, 1 and 2\n",
    "\n",
    "artwork = Artwork[1:] #Removes header row"
   ]
  },
  {
   "cell_type": "markdown",
   "metadata": {},
   "source": [
    "We can replace parts of a string using the method `str.replace()` method. Suppose"
   ]
  },
  {
   "cell_type": "code",
   "execution_count": 2,
   "metadata": {},
   "outputs": [
    {
     "name": "stdout",
     "output_type": "stream",
     "text": [
      "blue is my favourite colour\n"
     ]
    }
   ],
   "source": [
    "fav_colour = \"red is my favourite colour\"\n",
    "#Then we can change this to blue by fav_colour.replace(old,new)\n",
    "fav_colour = fav_colour.replace(\"red\",\"blue\") #Remember assigning it makes it permanent\n",
    "print(fav_colour)"
   ]
  },
  {
   "cell_type": "markdown",
   "metadata": {},
   "source": [
    "We can use this technique to remove the brackets in the columns `Nationality`, `gender`, `year of death` and `year of birth`. Removing is similar but use `\"\"` as the 'new' substring."
   ]
  },
  {
   "cell_type": "code",
   "execution_count": 3,
   "metadata": {},
   "outputs": [],
   "source": [
    "for row in artwork:\n",
    "    nationality = row[2]\n",
    "    nationality_open = nationality.replace(\"(\",\"\")\n",
    "    nationality_clean = nationality_open.replace(\")\",\"\")\n",
    "    row[2] = nationality_clean"
   ]
  },
  {
   "cell_type": "code",
   "execution_count": 4,
   "metadata": {},
   "outputs": [
    {
     "name": "stdout",
     "output_type": "stream",
     "text": [
      "['Tailpiece (page 55) from SAGESSE', 'Maurice Denis', 'French', '(1870)', '(1943)', '(Male)', '1889-1911', 'Prints & Illustrated Books']\n"
     ]
    }
   ],
   "source": [
    "print(artwork[2])"
   ]
  },
  {
   "cell_type": "markdown",
   "metadata": {},
   "source": [
    "French doesn't have parenthesis anymore. Repeat the same for Gender columns"
   ]
  },
  {
   "cell_type": "code",
   "execution_count": 5,
   "metadata": {},
   "outputs": [
    {
     "name": "stdout",
     "output_type": "stream",
     "text": [
      "['Tailpiece (page 55) from SAGESSE', 'Maurice Denis', 'French', '(1870)', '(1943)', 'Male', '1889-1911', 'Prints & Illustrated Books']\n"
     ]
    }
   ],
   "source": [
    "for row in artwork: \n",
    "    gender = row[5]\n",
    "    gender_open = gender.replace(\"(\",\"\")\n",
    "    gender_clean = gender_open.replace(\")\",\"\")\n",
    "    row[5] = gender_clean\n",
    "    \n",
    "print(artwork[2])"
   ]
  },
  {
   "cell_type": "markdown",
   "metadata": {},
   "source": [
    "Date columns are within parenthesis suggesting they would still be strings. Instead of repeating code, we can create a function to correct this."
   ]
  },
  {
   "cell_type": "code",
   "execution_count": 6,
   "metadata": {},
   "outputs": [
    {
     "name": "stdout",
     "output_type": "stream",
     "text": [
      "\n",
      "['Duplicate of plate from folio 11 verso (supplementary suite, plate 4) from ARDICIA', 'Pablo Palazuelo', 'Spanish', 1916, 2007, 'Male', '1978', 'Prints & Illustrated Books']\n",
      "\n",
      "['Tailpiece (page 55) from SAGESSE', 'Maurice Denis', 'French', 1870, 1943, 'Male', '1889-1911', 'Prints & Illustrated Books']\n",
      "\n",
      "['Headpiece (page 129) from LIVRET DE FOLASTRIES, À JANOT PARISIEN', 'Aristide Maillol', 'French', 1861, 1944, 'Male', '1927-1940', 'Prints & Illustrated Books']\n"
     ]
    }
   ],
   "source": [
    "def date_clean(date):\n",
    "    if date != \"\":\n",
    "        date = date.replace(\"(\",\"\")\n",
    "        date = date.replace(\")\",\"\")\n",
    "    if date == \"\":\n",
    "        return \"Date Unknown\"\n",
    "    return int(date)\n",
    "\n",
    "#The below method will not work as artwork[3] is the 4th ROW not COLUMN\n",
    "#for date in artwork[3]:\n",
    "#    date = date_clean(date)\n",
    "#for date in artwork[4]:\n",
    "#    date = date_clean(date)\n",
    "\n",
    "for row in artwork: \n",
    "    birth_date = row[3]\n",
    "    death_date = row[4]\n",
    "    row[3] = date_clean(birth_date)\n",
    "    row[4] = date_clean(death_date)\n",
    "    \n",
    "#Check to find dates have no parentheses\n",
    "for i in range(1,4): \n",
    "    print(f\"\\n{artwork[i]}\")\n",
    "    "
   ]
  },
  {
   "cell_type": "markdown",
   "metadata": {},
   "source": [
    "All columns don't have parenthesis any longer. Some nationalities and genders appear to be blank, so we can replace these with appropriate "
   ]
  },
  {
   "cell_type": "code",
   "execution_count": 8,
   "metadata": {},
   "outputs": [],
   "source": [
    "for row in artwork: \n",
    "    gender = row[5]\n",
    "    if not gender: \n",
    "        gender = \"Gender unknown/other\"\n",
    "        row[5] = gender\n",
    "    gender = gender.title()\n",
    "    \n",
    "    nationality = row[2]\n",
    "    if not nationality:\n",
    "        nationality = \"Nationality unknown\"\n",
    "        row[2] = nationality\n",
    "    nationality = nationality.title() #Capitalisation"
   ]
  },
  {
   "cell_type": "markdown",
   "metadata": {},
   "source": [
    "### Cleaning the Date (of creation) column\n",
    "This column is much less clean as it has values such as \"c. 1955.\", \"c. 1970's\", \"1990-1999\" etc.\n",
    "Instead of replacing each individual character, we can iterate over a list of them. "
   ]
  },
  {
   "cell_type": "code",
   "execution_count": 9,
   "metadata": {},
   "outputs": [],
   "source": [
    "bad_char = [\"c\", \"C\", \".\", \"'\", \"s\", \"S\", \"(\", \")\", \" \"]\n",
    "\n",
    "def clean_char(string):\n",
    "    for row in artwork:\n",
    "        string = row[6]\n",
    "        for char in bad_char:\n",
    "            string = string.replace(bad_char, \"\")\n",
    "            row[6] = string"
   ]
  },
  {
   "cell_type": "code",
   "execution_count": 12,
   "metadata": {},
   "outputs": [
    {
     "name": "stdout",
     "output_type": "stream",
     "text": [
      "\n",
      "[\"Rue de l'Hôtel-de-Ville\", 'Eugène Atget', 'French', 1857, 1927, 'Male', '1924', 'Photography']\n",
      "\n",
      "['Los Angeles Airport', 'Garry Winogrand', 'American', 1928, 1984, 'Male', '1978-1983', 'Photography']\n",
      "\n",
      "['Why Defy from Disasters of Peace', 'Diane Victor', 'South African', 1964, 'Date Unknown', 'Female', '2001', 'Prints & Illustrated Books']\n"
     ]
    }
   ],
   "source": [
    "for i in range(6,9): \n",
    "    print(f\"\\n{artwork[i]}\")"
   ]
  },
  {
   "cell_type": "markdown",
   "metadata": {},
   "source": [
    "The only cleaning operation that remains is how to handle range of dates (contains \"-\"). Since the accuracy isn't too important, we can opt to take the average of the range of dates."
   ]
  },
  {
   "cell_type": "code",
   "execution_count": null,
   "metadata": {},
   "outputs": [],
   "source": [
    "dash = [\"-\"]\n",
    "for row in artwork: \n",
    "    date = row[6]\n",
    "    if char in date:\n",
    "        # want to seperate the 2 numbers, convert to integer \n",
    "        #Average the two dates and round\n",
    "    else:\n",
    "        date = int(date)"
   ]
  }
 ],
 "metadata": {
  "kernelspec": {
   "display_name": "Python 3",
   "language": "python",
   "name": "python3"
  },
  "language_info": {
   "codemirror_mode": {
    "name": "ipython",
    "version": 3
   },
   "file_extension": ".py",
   "mimetype": "text/x-python",
   "name": "python",
   "nbconvert_exporter": "python",
   "pygments_lexer": "ipython3",
   "version": "3.7.6"
  }
 },
 "nbformat": 4,
 "nbformat_minor": 4
}
