{
 "cells": [
  {
   "cell_type": "markdown",
   "metadata": {},
   "source": [
    "## Cleaning and Preparing Data in Python\n",
    "#### Lesson 1\n",
    "\n",
    "CSV is a module built into python, it has the function reader.\n",
    "We first Open the csv file, then interpret (or parse) it, then convert into a list"
   ]
  },
  {
   "cell_type": "code",
   "execution_count": 3,
   "metadata": {},
   "outputs": [
    {
     "name": "stdout",
     "output_type": "stream",
     "text": [
      "\n",
      "['Title', 'Artist', 'Nationality', 'BeginDate', 'EndDate', 'Gender', 'Date', 'Department']\n",
      "\n",
      "['Dress MacLeod from Tartan Sets', 'Sarah Charlesworth', '(American)', '(1947)', '(2013)', '(Female)', '1986', 'Prints & Illustrated Books']\n",
      "\n",
      "['Duplicate of plate from folio 11 verso (supplementary suite, plate 4) from ARDICIA', 'Pablo Palazuelo', '(Spanish)', '(1916)', '(2007)', '(Male)', '1978', 'Prints & Illustrated Books']\n"
     ]
    }
   ],
   "source": [
    "from csv import reader\n",
    "opened = open(\"artworks.csv\")\n",
    "read = reader(opened)\n",
    "Artwork = list(read)\n",
    "\n",
    "for i in range(3): # ie 0,1,2\n",
    "    print(f\"\\n{Artwork[i]}\") #prints index 0, 1 and 2\n",
    "\n",
    "artwork = Artwork[1:] #Removes header row"
   ]
  },
  {
   "cell_type": "markdown",
   "metadata": {},
   "source": [
    "We can replace parts of a string using the method `str.replace()` method. Suppose"
   ]
  },
  {
   "cell_type": "code",
   "execution_count": 4,
   "metadata": {},
   "outputs": [
    {
     "name": "stdout",
     "output_type": "stream",
     "text": [
      "blue is my favourite colour\n"
     ]
    }
   ],
   "source": [
    "fav_colour = \"red is my favourite colour\"\n",
    "#Then we can change this to blue by fav_colour.replace(old,new)\n",
    "fav_colour = fav_colour.replace(\"red\",\"blue\") #Remember assigning it makes it permanent\n",
    "print(fav_colour)"
   ]
  },
  {
   "cell_type": "markdown",
   "metadata": {},
   "source": [
    "We can use this technique to remove the brackets in the columns `Nationality`, `gender`, `year of death` and `year of birth`. Removing is similar but use `\"\"` as the 'new' substring."
   ]
  },
  {
   "cell_type": "code",
   "execution_count": 7,
   "metadata": {},
   "outputs": [],
   "source": [
    "for row in artwork:\n",
    "    nationality = row[2]\n",
    "    nationality_open = nationality.replace(\"(\",\"\")\n",
    "    nationality_clean = nationality_open.replace(\")\",\"\")\n",
    "    row[2] = nationality_clean"
   ]
  },
  {
   "cell_type": "code",
   "execution_count": 8,
   "metadata": {},
   "outputs": [
    {
     "name": "stdout",
     "output_type": "stream",
     "text": [
      "['Tailpiece (page 55) from SAGESSE', 'Maurice Denis', 'French', '(1870)', '(1943)', '(Male)', '1889-1911', 'Prints & Illustrated Books']\n"
     ]
    }
   ],
   "source": [
    "print(artwork[2])"
   ]
  },
  {
   "cell_type": "markdown",
   "metadata": {},
   "source": [
    "French doesn't have parenthesis anymore. Repeat the same for Gender and Date columns"
   ]
  },
  {
   "cell_type": "code",
   "execution_count": 9,
   "metadata": {},
   "outputs": [
    {
     "name": "stdout",
     "output_type": "stream",
     "text": [
      "['Tailpiece (page 55) from SAGESSE', 'Maurice Denis', 'French', '1870', '1943', 'Male', '1889-1911', 'Prints & Illustrated Books']\n"
     ]
    }
   ],
   "source": [
    "for row in artwork: \n",
    "    gender = row[5]\n",
    "    gender_open = gender.replace(\"(\",\"\")\n",
    "    gender_clean = gender_open.replace(\")\",\"\")\n",
    "    row[5] = gender_clean\n",
    "    \n",
    "    begin = row[3]\n",
    "    begin1 = begin.replace(\"(\",\"\")\n",
    "    begin_clean = begin1.replace(\")\",\"\")\n",
    "    row[3] = begin_clean\n",
    "    \n",
    "    end = row[4]\n",
    "    end1 = end.replace(\"(\",\"\")\n",
    "    end_clean = end1.replace(\")\",\"\")\n",
    "    row[4] = end_clean\n",
    "\n",
    "    \n",
    "print(artwork[2])"
   ]
  },
  {
   "cell_type": "markdown",
   "metadata": {},
   "source": [
    "All columns don't have parenthesis any longer. Some nationalities and genders appear to be blank, so we can replace these with appropriate "
   ]
  },
  {
   "cell_type": "code",
   "execution_count": 12,
   "metadata": {},
   "outputs": [],
   "source": [
    "for row in artwork: \n",
    "    gender = row[5]\n",
    "    if not gender: \n",
    "        gender = \"Gender unknown/other\"\n",
    "        row[5] = gender\n",
    "    gender = gender.title()\n",
    "    \n",
    "    nationality = row[2]\n",
    "    if not nationality:\n",
    "        nationality = \"Nationality unknown\"\n",
    "        row[2] = nationality\n",
    "    nationality = nationality.title()"
   ]
  },
  {
   "cell_type": "code",
   "execution_count": null,
   "metadata": {},
   "outputs": [],
   "source": []
  }
 ],
 "metadata": {
  "kernelspec": {
   "display_name": "Python 3",
   "language": "python",
   "name": "python3"
  },
  "language_info": {
   "codemirror_mode": {
    "name": "ipython",
    "version": 3
   },
   "file_extension": ".py",
   "mimetype": "text/x-python",
   "name": "python",
   "nbconvert_exporter": "python",
   "pygments_lexer": "ipython3",
   "version": "3.7.6"
  }
 },
 "nbformat": 4,
 "nbformat_minor": 4
}
