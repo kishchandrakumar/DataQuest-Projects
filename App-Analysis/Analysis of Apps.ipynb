{
 "cells": [
  {
   "cell_type": "markdown",
   "metadata": {},
   "source": [
    "# Profiles of Profitable Apps\n",
    "### Scenario (fictional)\n",
    "As an app company, we would like to gain insight on Google Play and Apple App store markets. In particular, we would like to gain insight on the characteristics of successful apps that are free in both markets, to guide our next development. Our goal for this project is to analyze data to help our developers understand what type of apps are likely to attract the most users, and hence bring in the most ad revenue.\n",
    "\n",
    "### Methodology\n",
    "A sample of 10,000 Android apps and 7000 Apple apps, collected in 2018, were analysed.\n",
    "\n",
    "Although Pandas would have offered a cleaner solution, the package wasn't used here in order to practice basic skills in Python.\n"
   ]
  },
  {
   "cell_type": "markdown",
   "metadata": {},
   "source": [
    "### Reading the file and examining data"
   ]
  },
  {
   "cell_type": "code",
   "execution_count": 1,
   "metadata": {},
   "outputs": [],
   "source": [
    "def open_file(file):\n",
    "    opened_file = open(file)\n",
    "    from csv import reader\n",
    "    read_file = reader(opened_file)\n",
    "    data = list(read_file)\n",
    "    \n",
    "    return data\n",
    "    \n",
    "    \n",
    "\n",
    "def explore_data(dataset, start, end, dimensions=False): \n",
    "    ''' A function to print parts of the dataset easily'''\n",
    "    dataset_slice = dataset[start:end]\n",
    "    cols = len(dataset_slice[0]) #First row as a list\n",
    "    rows = len(dataset_slice)\n",
    "    total_rows = len(dataset)\n",
    "    \n",
    "    if dimensions:\n",
    "        print(f'Printing {cols} columns and {rows} out of {total_rows} rows')\n",
    "        print('\\n')\n",
    "    \n",
    "    for row in dataset_slice:\n",
    "        print(row)\n",
    "        print('\\n')\n",
    "        "
   ]
  },
  {
   "cell_type": "code",
   "execution_count": 2,
   "metadata": {},
   "outputs": [
    {
     "name": "stdout",
     "output_type": "stream",
     "text": [
      "Printing 16 columns and 3 out of 7198 rows\n",
      "\n",
      "\n",
      "['id', 'track_name', 'size_bytes', 'currency', 'price', 'rating_count_tot', 'rating_count_ver', 'user_rating', 'user_rating_ver', 'ver', 'cont_rating', 'prime_genre', 'sup_devices.num', 'ipadSc_urls.num', 'lang.num', 'vpp_lic']\n",
      "\n",
      "\n",
      "['284882215', 'Facebook', '389879808', 'USD', '0.0', '2974676', '212', '3.5', '3.5', '95.0', '4+', 'Social Networking', '37', '1', '29', '1']\n",
      "\n",
      "\n",
      "['389801252', 'Instagram', '113954816', 'USD', '0.0', '2161558', '1289', '4.5', '4.0', '10.23', '12+', 'Photo & Video', '37', '0', '29', '1']\n",
      "\n",
      "\n",
      "Printing 13 columns and 3 out of 10842 rows\n",
      "\n",
      "\n",
      "['App', 'Category', 'Rating', 'Reviews', 'Size', 'Installs', 'Type', 'Price', 'Content Rating', 'Genres', 'Last Updated', 'Current Ver', 'Android Ver']\n",
      "\n",
      "\n",
      "['Photo Editor & Candy Camera & Grid & ScrapBook', 'ART_AND_DESIGN', '4.1', '159', '19M', '10,000+', 'Free', '0', 'Everyone', 'Art & Design', 'January 7, 2018', '1.0.0', '4.0.3 and up']\n",
      "\n",
      "\n",
      "['Coloring book moana', 'ART_AND_DESIGN', '3.9', '967', '14M', '500,000+', 'Free', '0', 'Everyone', 'Art & Design;Pretend Play', 'January 15, 2018', '2.0.0', '4.0.3 and up']\n",
      "\n",
      "\n"
     ]
    }
   ],
   "source": [
    "apple_dataset = open_file(file='AppleStore.csv')\n",
    "explore_data(apple_dataset, start=0, end=3, dimensions=True)\n",
    "\n",
    "android_dataset = open_file('googleplaystore.csv')\n",
    "explore_data(android_dataset, 0, 3, True)\n",
    "\n",
    "apple_header = apple_dataset[0]\n",
    "apple_data = apple_dataset[1:]\n",
    "android_header = android_dataset[0]\n",
    "android_data = android_dataset[1:]"
   ]
  },
  {
   "cell_type": "markdown",
   "metadata": {},
   "source": [
    "#### Observations\n",
    "1. Both datasets have header rows\n",
    "2. Apple data has 16 columns or 'factors', whereas Google play data has a smaller dimension of 13\n",
    "3. Columns of the datasets do not line up, e.g. Category is in index position 1 and -5 for Google and Apple respectively\n",
    "4. Unsure what some column headers mean: 'Type' for Google Play Store, and 'vpp_lic', 'ipadSc_urls.num' from Apple dataset. So we look at documentation for [Google Dataset](https://www.kaggle.com/lava18/google-play-store-apps) and [Apple Dataset](https://www.kaggle.com/ramamet4/app-store-apple-data-set-10k-apps?select=AppleStore.csv) to check.\n",
    "5. `Currency` column only has one unique value: 'USD'\n",
    "6. We'd like to find the features of a successful app, so most relevant columns are likely to be: Category, number of downloads and User Ratings. \n",
    "7. There are potentially links between number of supported devices and ratings\n",
    "\n",
    "## Data Cleaning\n",
    "\n",
    "For the purposes of this project, we're only looking to examine free english apps. Therefore we want to do the following:\n",
    "1. Check for and remove any duplicates\n",
    "2. Remove non-English apps\n",
    "3. Remove non-free apps\n",
    "4. Decide how to handle anomalous results\n",
    "\n",
    "#### Discussion Forum\n",
    "The [Android Data Discussion Forum](https://www.kaggle.com/lava18/google-play-store-apps/discussion) of the Google Dataset highlights multiple potential errors to focus on. One such error describes a column shift for row number 10472 (without header row), since it is missing `Category`"
   ]
  },
  {
   "cell_type": "code",
   "execution_count": 3,
   "metadata": {},
   "outputs": [],
   "source": [
    "apple_header = apple_dataset[0]\n",
    "apple_data = apple_dataset[1:]\n",
    "android_header = android_dataset[0]\n",
    "android_data = android_dataset[1:]\n"
   ]
  },
  {
   "cell_type": "code",
   "execution_count": 4,
   "metadata": {},
   "outputs": [
    {
     "name": "stdout",
     "output_type": "stream",
     "text": [
      "['Life Made WI-Fi Touchscreen Photo Frame', '1.9', '19', '3.0M', '1,000+', 'Free', '0', 'Everyone', '', 'February 11, 2018', '1.0.19', '4.0 and up']\n",
      "10841\n",
      "['osmino Wi-Fi: free WiFi', 'TOOLS', '4.2', '134203', '4.1M', '10,000,000+', 'Free', '0', 'Everyone', 'Tools', 'August 7, 2018', '6.06.14', '4.4 and up']\n",
      "10840\n"
     ]
    }
   ],
   "source": [
    "print(android_data[10472]) #Indeed incorrect so we delete this entry\n",
    "print(len(android_data))\n",
    "del android_data[10472]\n",
    "print(android_data[10472]) #Check to see deletion at index location\n",
    "print(len(android_data))"
   ]
  },
  {
   "cell_type": "markdown",
   "metadata": {},
   "source": [
    "### Duplicate entries\n",
    "Below we find that Google has 1181 duplicate entries for Google Play Store. We create a frequency table with dictionaries to get an idea of the most common apps, to then assess how some or all of those can be dealt with. 'ROBLOX' has a total of 9 entries. \n",
    "\n",
    "Possible ideas instead of removing randomly we could use some of the data to determine which data points to keep.\n",
    "1. `Reviews` could be used since that doesn't shrink with time. \n",
    "2. `current ver` and `ver` columns of Google Play and Apple datasets respectively could be used, but duplicates could be found for the same version\n",
    "3. At initial glance, `Installs` looked like a good candidate, however in the case of 'Instagram', it simply states '1 billion +'"
   ]
  },
  {
   "cell_type": "code",
   "execution_count": 34,
   "metadata": {},
   "outputs": [
    {
     "name": "stdout",
     "output_type": "stream",
     "text": [
      "There are 1181 duplicates in Android\n"
     ]
    }
   ],
   "source": [
    "#We are told there are no duplicates in the Apple dataset, so we focus on Android\n",
    "\n",
    "android_duplicates = []\n",
    "android_unique = []\n",
    "\n",
    "for app in android_data:\n",
    "    app_name = app[0] #First element of each row\n",
    "    if app_name in android_unique:\n",
    "        android_duplicates.append(app_name)\n",
    "    else:\n",
    "        android_unique.append(app_name)\n",
    "        \n",
    "print(f'There are {len(android_duplicates)} duplicates in Android')\n",
    "\n",
    "\n"
   ]
  },
  {
   "cell_type": "markdown",
   "metadata": {},
   "source": [
    "#### Examining most frequent duplications"
   ]
  },
  {
   "cell_type": "code",
   "execution_count": 10,
   "metadata": {},
   "outputs": [],
   "source": [
    "app_frequency = {}\n",
    "\n",
    "for each_row in android_data:\n",
    "    app_name = each_row[0]\n",
    "    if app_name in app_frequency:\n",
    "        app_frequency[app_name] += 1\n",
    "    else:\n",
    "        app_frequency[app_name] = 1\n",
    "        "
   ]
  },
  {
   "cell_type": "code",
   "execution_count": 39,
   "metadata": {},
   "outputs": [],
   "source": [
    "#Order the dictionary by length of Values\n",
    "x = sorted(app_frequency.items(), key=lambda item: item[1], reverse=True)\n",
    "ordered_app_frequency = {k: v for k, v in x}"
   ]
  },
  {
   "cell_type": "code",
   "execution_count": 41,
   "metadata": {},
   "outputs": [
    {
     "data": {
      "text/plain": [
       "[('ROBLOX', 9),\n",
       " ('CBS Sports App - Scores, News, Stats & Watch Live', 8),\n",
       " ('Duolingo: Learn Languages Free', 7),\n",
       " ('Candy Crush Saga', 7),\n",
       " ('8 Ball Pool', 7),\n",
       " ('ESPN', 7),\n",
       " ('Nick', 6),\n",
       " ('Subway Surfers', 6),\n",
       " ('Bubble Shooter', 6),\n",
       " ('slither.io', 6)]"
      ]
     },
     "execution_count": 41,
     "metadata": {},
     "output_type": "execute_result"
    }
   ],
   "source": [
    "#Returns just the first 10 most frequently duplicated apps - 'ROBLOX' appears 9 times\n",
    "list(ordered_app_frequency.items())[:10]"
   ]
  },
  {
   "cell_type": "code",
   "execution_count": 14,
   "metadata": {},
   "outputs": [
    {
     "name": "stdout",
     "output_type": "stream",
     "text": [
      "['ROBLOX', 'GAME', '4.5', '4447388', '67M', '100,000,000+', 'Free', '0', 'Everyone 10+', 'Adventure;Action & Adventure', 'July 31, 2018', '2.347.225742', '4.1 and up']\n",
      "\n",
      "\n",
      "['ROBLOX', 'GAME', '4.5', '4447346', '67M', '100,000,000+', 'Free', '0', 'Everyone 10+', 'Adventure;Action & Adventure', 'July 31, 2018', '2.347.225742', '4.1 and up']\n",
      "\n",
      "\n",
      "['ROBLOX', 'GAME', '4.5', '4448791', '67M', '100,000,000+', 'Free', '0', 'Everyone 10+', 'Adventure;Action & Adventure', 'July 31, 2018', '2.347.225742', '4.1 and up']\n",
      "\n",
      "\n",
      "['ROBLOX', 'GAME', '4.5', '4449882', '67M', '100,000,000+', 'Free', '0', 'Everyone 10+', 'Adventure;Action & Adventure', 'July 31, 2018', '2.347.225742', '4.1 and up']\n",
      "\n",
      "\n",
      "['ROBLOX', 'GAME', '4.5', '4449910', '67M', '100,000,000+', 'Free', '0', 'Everyone 10+', 'Adventure;Action & Adventure', 'July 31, 2018', '2.347.225742', '4.1 and up']\n",
      "\n",
      "\n",
      "['ROBLOX', 'FAMILY', '4.5', '4449910', '67M', '100,000,000+', 'Free', '0', 'Everyone 10+', 'Adventure;Action & Adventure', 'July 31, 2018', '2.347.225742', '4.1 and up']\n",
      "\n",
      "\n",
      "['ROBLOX', 'FAMILY', '4.5', '4450855', '67M', '100,000,000+', 'Free', '0', 'Everyone 10+', 'Adventure;Action & Adventure', 'July 31, 2018', '2.347.225742', '4.1 and up']\n",
      "\n",
      "\n",
      "['ROBLOX', 'FAMILY', '4.5', '4450890', '67M', '100,000,000+', 'Free', '0', 'Everyone 10+', 'Adventure;Action & Adventure', 'July 31, 2018', '2.347.225742', '4.1 and up']\n",
      "\n",
      "\n",
      "['ROBLOX', 'FAMILY', '4.5', '4443407', '67M', '100,000,000+', 'Free', '0', 'Everyone 10+', 'Adventure;Action & Adventure', 'July 31, 2018', '2.347.225742', '4.1 and up']\n",
      "\n",
      "\n"
     ]
    }
   ],
   "source": [
    "for row in android_data:\n",
    "    app_name = row[0]\n",
    "    if app_name == 'ROBLOX':\n",
    "        print(row)\n",
    "        print('\\n')"
   ]
  },
  {
   "cell_type": "markdown",
   "metadata": {},
   "source": [
    "#### Removing Duplicates\n",
    "Notice the only reliable feature that changes (apart from 1 instance) is the length of `Reviews`. We can use this column to keep only the maximum. \n",
    "\n",
    "Method \n",
    "- Create a dictionary called `reviews_max` which stores only the maximum number of reviews\n",
    "- Create a new list called `clean_android` where unique apps will be stored\n",
    "- Loop through `android_data`, and if the number of reviews of the row matches the maximum number of reviews from `reviews_max`, then we append `clean_android`\n",
    "- Check that the length of `clean_android`, which should be `len(android_data)` minus `len(android_duplicates)` (10840 - 1181 = 9659)"
   ]
  },
  {
   "cell_type": "code",
   "execution_count": 26,
   "metadata": {},
   "outputs": [
    {
     "data": {
      "text/plain": [
       "9659"
      ]
     },
     "execution_count": 26,
     "metadata": {},
     "output_type": "execute_result"
    }
   ],
   "source": [
    "reviews_max = {} #initialise dictionary \n",
    "for row in android_data:\n",
    "    name = row[0]\n",
    "    n_reviews = float(row[3]) #Number of reviews for each app\n",
    "    \n",
    "    if name not in reviews_max:\n",
    "        reviews_max[name] = n_reviews #Create a new entry in `reviews_max`\n",
    "        \n",
    "    elif n_reviews > reviews_max[name]:\n",
    "        reviews_max[name] = n_reviews   #Updates max number of reviews\n",
    "        \n",
    "len(reviews_max) #Should be 9659"
   ]
  },
  {
   "cell_type": "code",
   "execution_count": 28,
   "metadata": {},
   "outputs": [
    {
     "data": {
      "text/plain": [
       "10054"
      ]
     },
     "execution_count": 28,
     "metadata": {},
     "output_type": "execute_result"
    }
   ],
   "source": [
    "clean_android = []\n",
    "\n",
    "for row in android_data:\n",
    "    name = row[0]\n",
    "    n_reviews = float(row[3])\n",
    "\n",
    "    if n_reviews == reviews_max[name]:\n",
    "        clean_android.append(row)\n",
    "        \n",
    "len(clean_android) #Should be 9659"
   ]
  },
  {
   "cell_type": "markdown",
   "metadata": {},
   "source": [
    "#### Exploring the Mistake\n",
    "For an unknown reason, `clean_android` returned length 10054 instead of the expected 9659. 786 duplicates have been removed, but 395 have not. I suspected this may be because some maximum reviews may be duplicated, so we rerun with a check to see if an app has been already added before appending `clean_android`. This returned the expected length of non-duplicated apps. "
   ]
  },
  {
   "cell_type": "code",
   "execution_count": 33,
   "metadata": {},
   "outputs": [
    {
     "data": {
      "text/plain": [
       "9659"
      ]
     },
     "execution_count": 33,
     "metadata": {},
     "output_type": "execute_result"
    }
   ],
   "source": [
    "clean_android = []\n",
    "already_added = []\n",
    "\n",
    "for row in android_data:\n",
    "    name = row[0]\n",
    "    n_reviews = float(row[3])\n",
    "\n",
    "    if n_reviews == reviews_max[name] and name not in already_added:\n",
    "        clean_android.append(row)\n",
    "        already_added.append(name)\n",
    "        \n",
    "len(clean_android) #Should be 9659"
   ]
  },
  {
   "cell_type": "markdown",
   "metadata": {},
   "source": [
    "### Removing Non-English Apps\n",
    "Since we are focusing on apps intended for English-Speaking audiences, we would like to filter out the non-English apps. It would be useful to check whether the resulting list contains non-English characters, so I found the `.isascii()` method via StackExchange. \n"
   ]
  },
  {
   "cell_type": "code",
   "execution_count": 42,
   "metadata": {},
   "outputs": [
    {
     "data": {
      "text/plain": [
       "542"
      ]
     },
     "execution_count": 42,
     "metadata": {},
     "output_type": "execute_result"
    }
   ],
   "source": [
    "counter = 0\n",
    "for row in clean_android:\n",
    "    name = row[0]\n",
    "    if name.isascii() == False:\n",
    "        counter += 1\n",
    "        \n",
    "counter"
   ]
  },
  {
   "cell_type": "markdown",
   "metadata": {},
   "source": [
    "We find 542 apps from `clean_android` have non-ascii characters. Initially this value seems reasonable as it makes up 5.6% of the remaining data. However at this stage I learnt that emojis evaluate as non-ASCII characters, so I may be losing a lot more data than is necessary. \n",
    "\n",
    "Instead, we make an alternative function `ascii_check` that looks at the unique unicode code assigned to every character. ASCII characters have their unique code smaller than 127. If a name has more than three ASCII characters we will remove the entry, therefore allowing for up to 3 emojis. "
   ]
  },
  {
   "cell_type": "code",
   "execution_count": 63,
   "metadata": {},
   "outputs": [],
   "source": [
    "def ascii_check(s):\n",
    "    '''Outputs True if number of non-ASCII characters does not exceed 3'''\n",
    "    length = len(s)\n",
    "    counter = 0\n",
    "    \n",
    "    for i in range(0,length):    #Considers the string one character at a time\n",
    "        if ord(s[i]) > 127:\n",
    "            counter += 1\n",
    "            \n",
    "    if counter > 3:\n",
    "        return False\n",
    "    \n",
    "    return True"
   ]
  },
  {
   "cell_type": "code",
   "execution_count": 64,
   "metadata": {},
   "outputs": [
    {
     "name": "stdout",
     "output_type": "stream",
     "text": [
      "True\n",
      "True\n",
      "False\n"
     ]
    }
   ],
   "source": [
    "#Checking our function:\n",
    "\n",
    "print(ascii_check('pie'))\n",
    "print(ascii_check('乐颂欢')) #Returns true as expected\n",
    "print(ascii_check('乐颂欢乐颂')) #Returns false as expected"
   ]
  },
  {
   "cell_type": "markdown",
   "metadata": {},
   "source": [
    "#### How many non-English apps? \n",
    "There are 7197 remaining Apple apps and we find 1014 to be removed. Expected remaining in `apple_english`: 6183\n",
    "\n",
    "There are 9659 remaining Android apps and we find 45 to be removed. Expected remaining in `android_english`: 9614\n",
    "\n"
   ]
  },
  {
   "cell_type": "code",
   "execution_count": 66,
   "metadata": {},
   "outputs": [
    {
     "data": {
      "text/plain": [
       "1014"
      ]
     },
     "execution_count": 66,
     "metadata": {},
     "output_type": "execute_result"
    }
   ],
   "source": [
    "counter = 0\n",
    "for row in apple_data:\n",
    "    name = row[1]\n",
    "    if ascii_check(name) == False:\n",
    "        counter += 1\n",
    "        \n",
    "counter     #1014 to be removed from Apple"
   ]
  },
  {
   "cell_type": "code",
   "execution_count": 56,
   "metadata": {},
   "outputs": [
    {
     "data": {
      "text/plain": [
       "45"
      ]
     },
     "execution_count": 56,
     "metadata": {},
     "output_type": "execute_result"
    }
   ],
   "source": [
    "counter = 0\n",
    "for row in clean_android:\n",
    "    name = row[0]\n",
    "    if ascii_check(name) == False:\n",
    "        counter += 1\n",
    "        \n",
    "counter     #Only 45 to be removed from Android"
   ]
  },
  {
   "cell_type": "code",
   "execution_count": 65,
   "metadata": {},
   "outputs": [
    {
     "name": "stdout",
     "output_type": "stream",
     "text": [
      "6183\n",
      "9614\n"
     ]
    }
   ],
   "source": [
    "apple_english = [] \n",
    "android_english = []\n",
    "\n",
    "for row in clean_android:\n",
    "    name = row[0]\n",
    "    \n",
    "    if ascii_check(name): \n",
    "        android_english.append(row)\n",
    "        \n",
    "for row in apple_data:\n",
    "    name = row[1]\n",
    "    \n",
    "    if ascii_check(name):\n",
    "        apple_english.append(row)\n",
    "        \n",
    "print(len(apple_english))\n",
    "print(len(android_english))"
   ]
  },
  {
   "cell_type": "markdown",
   "metadata": {},
   "source": [
    "### Removing Non-Free Apps\n",
    "In this analysis we're only interested in analysing the winning characteristics of free apps. Therefore the paid-for apps are irrelevant to us at this stage and can be removed. We begin by looking for relevant columns: \n",
    "\n",
    "For Apple, free apps are identified with the column at index position 4, with `Price` as '0.0' as a string\n",
    "\n",
    "For Android, this happens at index position 6, with 'Free' as a string.\n",
    "\n",
    "Since both columns may have another indication of being free, we create a dictionary to identify these. There seems to be just 1 type identifying free apps in both datasets: \n",
    "\n",
    "- Apple has 3222 free apps \n",
    "- Android has 8863 free apps \n",
    "\n"
   ]
  },
  {
   "cell_type": "code",
   "execution_count": 74,
   "metadata": {},
   "outputs": [
    {
     "data": {
      "text/plain": [
       "{'0.0': 3222,\n",
       " '1.99': 610,\n",
       " '0.99': 641,\n",
       " '6.99': 165,\n",
       " '2.99': 669,\n",
       " '7.99': 30,\n",
       " '4.99': 375,\n",
       " '9.99': 76,\n",
       " '3.99': 266,\n",
       " '8.99': 8,\n",
       " '5.99': 43,\n",
       " '14.99': 15,\n",
       " '13.99': 6,\n",
       " '19.99': 13,\n",
       " '17.99': 3,\n",
       " '15.99': 4,\n",
       " '24.99': 8,\n",
       " '20.99': 1,\n",
       " '29.99': 6,\n",
       " '12.99': 1,\n",
       " '39.99': 2,\n",
       " '74.99': 1,\n",
       " '16.99': 2,\n",
       " '249.99': 1,\n",
       " '11.99': 3,\n",
       " '27.99': 1,\n",
       " '49.99': 2,\n",
       " '59.99': 3,\n",
       " '22.99': 1,\n",
       " '18.99': 1,\n",
       " '99.99': 1,\n",
       " '21.99': 1,\n",
       " '34.99': 1,\n",
       " '299.99': 1}"
      ]
     },
     "execution_count": 74,
     "metadata": {},
     "output_type": "execute_result"
    }
   ],
   "source": [
    "price_dict_1 = {}\n",
    "\n",
    "for row in apple_english:\n",
    "    price = row[4]\n",
    "    if price not in price_dict_1:\n",
    "        price_dict_1[price] = 1\n",
    "    else:\n",
    "        price_dict_1[price] += 1\n",
    "        \n",
    "price_dict_1"
   ]
  },
  {
   "cell_type": "code",
   "execution_count": 76,
   "metadata": {},
   "outputs": [
    {
     "data": {
      "text/plain": [
       "{'Free': 8863, 'Paid': 750, 'NaN': 1}"
      ]
     },
     "execution_count": 76,
     "metadata": {},
     "output_type": "execute_result"
    }
   ],
   "source": [
    "price_dict_2 = {}\n",
    "\n",
    "for row in android_english:\n",
    "    price = row[6]\n",
    "    if price not in price_dict_2:\n",
    "        price_dict_2[price] = 1\n",
    "    else:\n",
    "        price_dict_2[price] += 1\n",
    "        \n",
    "price_dict_2"
   ]
  },
  {
   "cell_type": "code",
   "execution_count": 78,
   "metadata": {},
   "outputs": [],
   "source": [
    "apple_final = []\n",
    "android_final = []\n",
    "\n",
    "for row in apple_english:\n",
    "    price = row[4]\n",
    "    if price == '0.0':\n",
    "        apple_final.append(row)\n",
    "    \n",
    "for row in android_english:\n",
    "    price = row[6]\n",
    "    if price == 'Free':\n",
    "        android_final.append(row)"
   ]
  },
  {
   "cell_type": "markdown",
   "metadata": {},
   "source": [
    "### Analysis of Cleaned Data\n",
    "To review, we want to identify characteristics of apps that will be successful on the Google Play Store as well as the Apple Store. Possible measures that may be relevant for assessing success are average reviews. \n",
    "\n",
    "#### Possible features that determine a successful app could be: \n",
    "- Number of Versions, or date of last update (frequent updates likely to address problems and maintain high review score)\n",
    "- Genre (Particular genres may be associated with positive reviews by default) \n",
    "\n",
    "#### Possible sources of bias or skew: \n",
    "- User ratings are not completely independent to each other - Negatively reviewed apps may tend to induce further negative reviews, as the user is expecting a poor app and is more likely to identify the flaws. The reverse may also be true\n",
    "- False ratings - the cost of rating a free app incorrectly is 0, so it is possible that apps receive ratings which do not reflect the user's true evaluation. \n",
    "- Other factors affecting ratings - e.g. advertisement frequency whilst using a free app is likely to affect user ratings, however we don't have data for this\n",
    "\n",
    "\n",
    "#### Method of Analysis\n",
    "We start by looking at the most frequent genres. We create 2 functions: `freq_table` to quickly create a dictionary of frequencies, and `ordered_frequencies` to neatly output the ordered results."
   ]
  },
  {
   "cell_type": "code",
   "execution_count": 101,
   "metadata": {},
   "outputs": [],
   "source": [
    "def freq_table(dataset, index_pos): \n",
    "    '''Dataset = final android or apple dataset, index_pos = column of feature to count up'''\n",
    "    frequencies = {}\n",
    "    for row in dataset:\n",
    "        feature = row[index_pos]\n",
    "        if feature in frequencies:\n",
    "            frequencies[feature] += 1\n",
    "        else:\n",
    "            frequencies[feature] = 1\n",
    "            \n",
    "    return frequencies #frequency table as dictionary \n",
    "        \n",
    "    \n",
    "def ordered_frequencies(freq_table): #Takes in any frequency table (as a dictionary)\n",
    "    table = freq_table\n",
    "    table_display = []\n",
    "    for key in table:\n",
    "        key_val_tuple = (table[key], key)  # (value, key) for ordering\n",
    "        table_display.append(key_val_tuple)  #List of tuples created \n",
    "        \n",
    "    table_ordered = sorted(table_display, reverse=True)\n",
    "    return table_ordered"
   ]
  },
  {
   "cell_type": "code",
   "execution_count": 110,
   "metadata": {},
   "outputs": [],
   "source": [
    "apple_prime_genre = freq_table(apple_final, -5)\n",
    "android_genres = freq_table(android_final, -4)\n",
    "android_category = freq_table(android_final, 1)\n",
    "\n",
    "import matplotlib.pyplot as plt"
   ]
  },
  {
   "cell_type": "code",
   "execution_count": 128,
   "metadata": {},
   "outputs": [
    {
     "data": {
      "text/plain": [
       "[(1874, 'Games'),\n",
       " (254, 'Entertainment'),\n",
       " (160, 'Photo & Video'),\n",
       " (118, 'Education'),\n",
       " (106, 'Social Networking'),\n",
       " (84, 'Shopping'),\n",
       " (81, 'Utilities'),\n",
       " (69, 'Sports'),\n",
       " (66, 'Music'),\n",
       " (65, 'Health & Fitness'),\n",
       " (56, 'Productivity'),\n",
       " (51, 'Lifestyle'),\n",
       " (43, 'News'),\n",
       " (40, 'Travel'),\n",
       " (36, 'Finance'),\n",
       " (28, 'Weather'),\n",
       " (26, 'Food & Drink'),\n",
       " (18, 'Reference'),\n",
       " (17, 'Business'),\n",
       " (14, 'Book'),\n",
       " (6, 'Navigation'),\n",
       " (6, 'Medical'),\n",
       " (4, 'Catalogs')]"
      ]
     },
     "execution_count": 128,
     "metadata": {},
     "output_type": "execute_result"
    }
   ],
   "source": [
    "apple_genre = ordered_frequencies(apple_prime_genre) #outputs list of (freq, Genre)\n",
    "apple_genre\n"
   ]
  },
  {
   "cell_type": "code",
   "execution_count": 140,
   "metadata": {},
   "outputs": [
    {
     "data": {
      "image/png": "[encoded data removed]",
      "text/plain": [
       "<Figure size 720x360 with 1 Axes>"
      ]
     },
     "metadata": {
      "needs_background": "light"
     },
     "output_type": "display_data"
    }
   ],
   "source": [
    "fig, ax = plt.subplots(figsize=(10,5)) \n",
    "plt.style.use('fast')\n",
    "plt.bar(range(len(apple_genre)), [val[0] for val in apple_genre])\n",
    "plt.xticks(range(len(apple_genre)), [val[1] for val in apple_genre])\n",
    "plt.xticks(rotation=70)\n",
    "ax.set_title(\"Apple Store's Genres\", fontsize = 24)\n",
    "ax.set_xlabel('Genre', fontsize = 14)\n",
    "ax.set_ylabel('Freq', fontsize = 14)\n",
    "plt.show()"
   ]
  },
  {
   "cell_type": "code",
   "execution_count": 130,
   "metadata": {},
   "outputs": [
    {
     "data": {
      "text/plain": [
       "[(749, 'Tools'),\n",
       " (538, 'Entertainment'),\n",
       " (474, 'Education'),\n",
       " (407, 'Business'),\n",
       " (345, 'Productivity'),\n",
       " (345, 'Lifestyle'),\n",
       " (328, 'Finance'),\n",
       " (313, 'Medical'),\n",
       " (307, 'Sports'),\n",
       " (294, 'Personalization'),\n",
       " (287, 'Communication'),\n",
       " (275, 'Action'),\n",
       " (273, 'Health & Fitness'),\n",
       " (261, 'Photography'),\n",
       " (248, 'News & Magazines'),\n",
       " (236, 'Social'),\n",
       " (206, 'Travel & Local'),\n",
       " (199, 'Shopping'),\n",
       " (190, 'Books & Reference'),\n",
       " (181, 'Simulation'),\n",
       " (165, 'Dating'),\n",
       " (164, 'Arcade'),\n",
       " (157, 'Video Players & Editors'),\n",
       " (156, 'Casual'),\n",
       " (124, 'Maps & Navigation'),\n",
       " (110, 'Food & Drink'),\n",
       " (100, 'Puzzle'),\n",
       " (88, 'Racing'),\n",
       " (83, 'Role Playing'),\n",
       " (83, 'Libraries & Demo'),\n",
       " (82, 'Auto & Vehicles'),\n",
       " (80, 'Strategy'),\n",
       " (73, 'House & Home'),\n",
       " (71, 'Weather'),\n",
       " (63, 'Events'),\n",
       " (60, 'Adventure'),\n",
       " (54, 'Comics'),\n",
       " (53, 'Beauty'),\n",
       " (53, 'Art & Design'),\n",
       " (44, 'Parenting'),\n",
       " (40, 'Card'),\n",
       " (38, 'Casino'),\n",
       " (37, 'Trivia'),\n",
       " (35, 'Educational;Education'),\n",
       " (34, 'Board'),\n",
       " (33, 'Educational'),\n",
       " (30, 'Education;Education'),\n",
       " (23, 'Word'),\n",
       " (21, 'Casual;Pretend Play'),\n",
       " (18, 'Music'),\n",
       " (15, 'Racing;Action & Adventure'),\n",
       " (15, 'Puzzle;Brain Games'),\n",
       " (15, 'Entertainment;Music & Video'),\n",
       " (12, 'Casual;Brain Games'),\n",
       " (12, 'Casual;Action & Adventure'),\n",
       " (11, 'Arcade;Action & Adventure'),\n",
       " (9, 'Action;Action & Adventure'),\n",
       " (8, 'Educational;Pretend Play'),\n",
       " (7, 'Simulation;Action & Adventure'),\n",
       " (7, 'Parenting;Education'),\n",
       " (7, 'Entertainment;Brain Games'),\n",
       " (7, 'Board;Brain Games'),\n",
       " (6, 'Parenting;Music & Video'),\n",
       " (6, 'Educational;Brain Games'),\n",
       " (6, 'Casual;Creativity'),\n",
       " (6, 'Art & Design;Creativity'),\n",
       " (5, 'Education;Pretend Play'),\n",
       " (4, 'Role Playing;Pretend Play'),\n",
       " (4, 'Education;Creativity'),\n",
       " (3, 'Role Playing;Action & Adventure'),\n",
       " (3, 'Puzzle;Action & Adventure'),\n",
       " (3, 'Entertainment;Creativity'),\n",
       " (3, 'Entertainment;Action & Adventure'),\n",
       " (3, 'Educational;Creativity'),\n",
       " (3, 'Educational;Action & Adventure'),\n",
       " (3, 'Education;Music & Video'),\n",
       " (3, 'Education;Brain Games'),\n",
       " (3, 'Education;Action & Adventure'),\n",
       " (3, 'Adventure;Action & Adventure'),\n",
       " (2, 'Video Players & Editors;Music & Video'),\n",
       " (2, 'Sports;Action & Adventure'),\n",
       " (2, 'Simulation;Pretend Play'),\n",
       " (2, 'Puzzle;Creativity'),\n",
       " (2, 'Music;Music & Video'),\n",
       " (2, 'Entertainment;Pretend Play'),\n",
       " (2, 'Casual;Education'),\n",
       " (2, 'Board;Action & Adventure'),\n",
       " (1, 'Video Players & Editors;Creativity'),\n",
       " (1, 'Trivia;Education'),\n",
       " (1, 'Travel & Local;Action & Adventure'),\n",
       " (1, 'Tools;Education'),\n",
       " (1, 'Strategy;Education'),\n",
       " (1, 'Strategy;Creativity'),\n",
       " (1, 'Strategy;Action & Adventure'),\n",
       " (1, 'Simulation;Education'),\n",
       " (1, 'Role Playing;Brain Games'),\n",
       " (1, 'Racing;Pretend Play'),\n",
       " (1, 'Puzzle;Education'),\n",
       " (1, 'Parenting;Brain Games'),\n",
       " (1, 'Music & Audio;Music & Video'),\n",
       " (1, 'Lifestyle;Pretend Play'),\n",
       " (1, 'Lifestyle;Education'),\n",
       " (1, 'Health & Fitness;Education'),\n",
       " (1, 'Health & Fitness;Action & Adventure'),\n",
       " (1, 'Entertainment;Education'),\n",
       " (1, 'Communication;Creativity'),\n",
       " (1, 'Comics;Creativity'),\n",
       " (1, 'Casual;Music & Video'),\n",
       " (1, 'Card;Action & Adventure'),\n",
       " (1, 'Books & Reference;Education'),\n",
       " (1, 'Art & Design;Pretend Play'),\n",
       " (1, 'Art & Design;Action & Adventure'),\n",
       " (1, 'Arcade;Pretend Play'),\n",
       " (1, 'Adventure;Education')]"
      ]
     },
     "execution_count": 130,
     "metadata": {},
     "output_type": "execute_result"
    }
   ],
   "source": [
    "android_genre = ordered_frequencies(android_genres) #outputs list of (freq, Genre)\n",
    "android_genre"
   ]
  },
  {
   "cell_type": "code",
   "execution_count": 138,
   "metadata": {},
   "outputs": [
    {
     "data": {
      "image/png": "[encoded data removed]",
      "text/plain": [
       "<Figure size 720x360 with 1 Axes>"
      ]
     },
     "metadata": {
      "needs_background": "light"
     },
     "output_type": "display_data"
    }
   ],
   "source": [
    "### Only first 20 Genres shown ###\n",
    "\n",
    "fig, ax = plt.subplots(figsize=(10,5)) \n",
    "plt.style.use('fast')\n",
    "plt.bar(range(len(android_genre[0:20])), [val[0] for val in android_genre[0:20]])\n",
    "plt.xticks(range(len(android_genre[0:20])), [val[1] for val in android_genre[0:20]])\n",
    "plt.xticks(rotation=70)\n",
    "ax.set_title(\"Google Play Store's Genres\", fontsize = 24)\n",
    "ax.set_xlabel('Genre', fontsize = 14)\n",
    "ax.set_ylabel('Freq', fontsize = 14)\n",
    "plt.show()\n",
    "\n"
   ]
  },
  {
   "cell_type": "code",
   "execution_count": 135,
   "metadata": {},
   "outputs": [
    {
     "data": {
      "text/plain": [
       "[(1675, 'FAMILY'),\n",
       " (862, 'GAME'),\n",
       " (750, 'TOOLS'),\n",
       " (407, 'BUSINESS'),\n",
       " (346, 'LIFESTYLE'),\n",
       " (345, 'PRODUCTIVITY'),\n",
       " (328, 'FINANCE'),\n",
       " (313, 'MEDICAL'),\n",
       " (301, 'SPORTS'),\n",
       " (294, 'PERSONALIZATION'),\n",
       " (287, 'COMMUNICATION'),\n",
       " (273, 'HEALTH_AND_FITNESS'),\n",
       " (261, 'PHOTOGRAPHY'),\n",
       " (248, 'NEWS_AND_MAGAZINES'),\n",
       " (236, 'SOCIAL'),\n",
       " (207, 'TRAVEL_AND_LOCAL'),\n",
       " (199, 'SHOPPING'),\n",
       " (190, 'BOOKS_AND_REFERENCE'),\n",
       " (165, 'DATING'),\n",
       " (159, 'VIDEO_PLAYERS'),\n",
       " (124, 'MAPS_AND_NAVIGATION'),\n",
       " (110, 'FOOD_AND_DRINK'),\n",
       " (103, 'EDUCATION'),\n",
       " (85, 'ENTERTAINMENT'),\n",
       " (83, 'LIBRARIES_AND_DEMO'),\n",
       " (82, 'AUTO_AND_VEHICLES'),\n",
       " (73, 'HOUSE_AND_HOME'),\n",
       " (71, 'WEATHER'),\n",
       " (63, 'EVENTS'),\n",
       " (58, 'PARENTING'),\n",
       " (57, 'ART_AND_DESIGN'),\n",
       " (55, 'COMICS'),\n",
       " (53, 'BEAUTY')]"
      ]
     },
     "execution_count": 135,
     "metadata": {},
     "output_type": "execute_result"
    }
   ],
   "source": [
    "android_cat = ordered_frequencies(android_category) #outputs list of (freq, Genre)\n",
    "android_cat"
   ]
  },
  {
   "cell_type": "code",
   "execution_count": 139,
   "metadata": {},
   "outputs": [
    {
     "data": {
      "image/png": "[encoded data removed]",
      "text/plain": [
       "<Figure size 720x360 with 1 Axes>"
      ]
     },
     "metadata": {
      "needs_background": "light"
     },
     "output_type": "display_data"
    }
   ],
   "source": [
    "### Only first 20 categories shown ###\n",
    "fig, ax = plt.subplots(figsize=(10,5)) \n",
    "plt.style.use('fast')\n",
    "plt.bar(range(len(android_cat[0:20])), [val[0] for val in android_cat[0:20]])\n",
    "plt.xticks(range(len(android_cat[0:20])), [val[1] for val in android_cat[0:20]])\n",
    "plt.xticks(rotation=70)\n",
    "ax.set_title(\"Google Play Store's Categories\", fontsize = 24)\n",
    "ax.set_xlabel('Category', fontsize = 14)\n",
    "ax.set_ylabel('Freq', fontsize = 14)\n",
    "plt.show()\n",
    "\n"
   ]
  },
  {
   "cell_type": "markdown",
   "metadata": {},
   "source": [
    "\n",
    "For Apple, we see that `Games` is by far the most common genre for free English apps. The top 3 Apps can be classed as 'Fun' as opposed to 'Practical' apps. However, this does not necessarily mean that each Game app is popular, and may have a relatively small number of users compared to an app in the second most common Genre, `Entertainment`.\n",
    "\n",
    "In contrast to Apple, the top 8 Genres from Google Play Store can be classed as 'Practical'.\n",
    "However when looking at Google Play Store's `Categories` we see that `Game` is the second most common, around half as common as `Family` which is in first place. Therefore we conclude that Google Play store has a much more balanced distribution between 'Fun' and 'Practical' apps. \n",
    "\n",
    "#### Analysing Number of App users\n",
    "The Android dataset has a column highlighting number of installs, but this is missing for Apple's App Store. Therefore we can use the total number of user ratings as a proxy. We start by calculating the Average number of user ratings per genre for the Apple App Store, so we can identify the most successful apps within each genre. \n",
    "\n",
    "#### Possible sources of bias and error\n",
    "- Intercorrelation is likely between user rating scores and number of installs. Seeing an app have low rating would probably lessen the likelihood that it would be installed by further users, despite marked improvements in the app. \n"
   ]
  },
  {
   "cell_type": "code",
   "execution_count": 146,
   "metadata": {},
   "outputs": [],
   "source": [
    "total_ratings = {}\n",
    "counter = {}\n",
    "for row in apple_final:\n",
    "    tot_rat = int(row[5])\n",
    "    genre = row[-5]\n",
    "    \n",
    "    if genre in total_ratings:\n",
    "        total_ratings[genre] += tot_rat\n",
    "        counter[genre] += 1\n",
    "        \n",
    "    else:\n",
    "        total_ratings[genre] = tot_rat\n",
    "        counter[genre] = 1"
   ]
  },
  {
   "cell_type": "code",
   "execution_count": 150,
   "metadata": {},
   "outputs": [],
   "source": [
    "average_ratings_ = {}\n",
    "for genre in counter: \n",
    "    average = total_ratings[genre]/counter[genre]\n",
    "    average_ratings_[genre] = average\n"
   ]
  },
  {
   "cell_type": "code",
   "execution_count": 152,
   "metadata": {},
   "outputs": [
    {
     "data": {
      "text/plain": [
       "[(86090.33333333333, 'Navigation'),\n",
       " (74942.11111111111, 'Reference'),\n",
       " (71548.34905660378, 'Social Networking'),\n",
       " (57326.530303030304, 'Music'),\n",
       " (52279.892857142855, 'Weather'),\n",
       " (39758.5, 'Book'),\n",
       " (33333.92307692308, 'Food & Drink'),\n",
       " (31467.944444444445, 'Finance'),\n",
       " (28441.54375, 'Photo & Video'),\n",
       " (28243.8, 'Travel'),\n",
       " (26919.690476190477, 'Shopping'),\n",
       " (23298.015384615384, 'Health & Fitness'),\n",
       " (23008.898550724636, 'Sports'),\n",
       " (22788.6696905016, 'Games'),\n",
       " (21248.023255813954, 'News'),\n",
       " (21028.410714285714, 'Productivity'),\n",
       " (18684.456790123455, 'Utilities'),\n",
       " (16485.764705882353, 'Lifestyle'),\n",
       " (14029.830708661417, 'Entertainment'),\n",
       " (7491.117647058823, 'Business'),\n",
       " (7003.983050847458, 'Education'),\n",
       " (4004.0, 'Catalogs'),\n",
       " (612.0, 'Medical')]"
      ]
     },
     "execution_count": 152,
     "metadata": {},
     "output_type": "execute_result"
    }
   ],
   "source": [
    "average_ratings = ordered_frequencies(average_ratings_)\n",
    "average_ratings"
   ]
  },
  {
   "cell_type": "markdown",
   "metadata": {},
   "source": [
    "We can see that Navigation has the highest average number of ratings of 86090 per app, and medical has the least with just 612 ratings per app. Since Navigation is a tool as opposed to a fun app, this is a good candidate to consider building, since it will likely be popular in both play stores. \n",
    "\n",
    "However, we need to consider whether a unique selling point can be established for users to prefer our app over existing ones. "
   ]
  },
  {
   "cell_type": "code",
   "execution_count": null,
   "metadata": {},
   "outputs": [],
   "source": []
  }
 ],
 "metadata": {
  "kernelspec": {
   "display_name": "Python 3",
   "language": "python",
   "name": "python3"
  },
  "language_info": {
   "codemirror_mode": {
    "name": "ipython",
    "version": 3
   },
   "file_extension": ".py",
   "mimetype": "text/x-python",
   "name": "python",
   "nbconvert_exporter": "python",
   "pygments_lexer": "ipython3",
   "version": "3.7.6"
  }
 },
 "nbformat": 4,
 "nbformat_minor": 4
}
