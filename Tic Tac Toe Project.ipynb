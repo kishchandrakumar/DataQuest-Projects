{
 "cells": [
  {
   "cell_type": "markdown",
   "metadata": {},
   "source": [
    "___\n",
    "\n",
    "<a href='https://www.udemy.com/user/joseportilla/'><img src='../Pierian_Data_Logo.png'/></a>\n",
    "___\n",
    "<center><em>Content Copyright by Pierian Data</em></center>"
   ]
  },
  {
   "cell_type": "markdown",
   "metadata": {},
   "source": [
    "# Milestone Project 1: Walkthrough Steps Workbook\n",
    "\n",
    "Below is a set of steps for you to follow to try to create the Tic Tac Toe Milestone Project game!"
   ]
  },
  {
   "cell_type": "markdown",
   "metadata": {},
   "source": [
    "#### Some suggested tools before you get started:\n",
    "To take input from a user:\n",
    "\n",
    "    player1 = input(\"Please pick a marker 'X' or 'O'\")\n",
    "    \n",
    "Note that input() takes in a string. If you need an integer value, use\n",
    "\n",
    "    position = int(input('Please enter a number'))\n",
    "    \n",
    "<br>To clear the screen between moves:\n",
    "\n",
    "    from IPython.display import clear_output\n",
    "    clear_output()\n",
    "    \n",
    "Note that clear_output() will only work in jupyter. To clear the screen in other IDEs, consider:\n",
    "\n",
    "    print('\\n'*100)\n",
    "    \n",
    "This scrolls the previous board up out of view. Now on to the program!"
   ]
  },
  {
   "cell_type": "markdown",
   "metadata": {},
   "source": [
    "**Step 1: Write a function that can print out a board. Set up your board as a list, where each index 1-9 corresponds with a number on a number pad, so you get a 3 by 3 board representation.**"
   ]
  },
  {
   "cell_type": "code",
   "execution_count": null,
   "metadata": {},
   "outputs": [],
   "source": [
    "from IPython.display import clear_output\n",
    "\n",
    "    "
   ]
  },
  {
   "cell_type": "code",
   "execution_count": null,
   "metadata": {},
   "outputs": [],
   "source": [
    "#Better\n",
    "\n",
    "def display_board(board, board_type='current'):\n",
    "    print(f\"Here is the {board_type} board:\")\n",
    "    print(f\"| {board[1]} | {board[2]} | {board[3]} |\\\n",
    "          \\n| {board[4]} | {board[5]} | {board[6]} |\\\n",
    "          \\n| {board[7]} | {board[8]} | {board[9]} |\")"
   ]
  },
  {
   "cell_type": "code",
   "execution_count": null,
   "metadata": {},
   "outputs": [],
   "source": []
  },
  {
   "cell_type": "markdown",
   "metadata": {},
   "source": [
    "**TEST Step 1:** run your function on a test version of the board list, and make adjustments as necessary"
   ]
  },
  {
   "cell_type": "code",
   "execution_count": null,
   "metadata": {},
   "outputs": [],
   "source": [
    "board = ['#','-','-','-','-','-','-','-','-','-']\n",
    "display_board(board)"
   ]
  },
  {
   "cell_type": "code",
   "execution_count": null,
   "metadata": {},
   "outputs": [],
   "source": [
    "num_board = [' ', '1', '2', '3', '4', '5', '6', '7', '8', '9']\n",
    "display_board(num_board)"
   ]
  },
  {
   "cell_type": "markdown",
   "metadata": {},
   "source": [
    "**Step 2: Write a function that can take in a player input and assign their marker as 'X' or 'O'. Think about using *while* loops to continually ask until you get a correct answer.**"
   ]
  },
  {
   "cell_type": "code",
   "execution_count": null,
   "metadata": {},
   "outputs": [],
   "source": [
    "def marker_choice():\n",
    "    pl_1_marker = 'Temp'\n",
    "    \n",
    "    while not (pl_1_marker == 'X' or pl_1_marker == 'O'):\n",
    "        clear_output\n",
    "        pl_1_marker = input(\"Pl 1 Choose marker (X or O): \").upper()\n",
    "        \n",
    "    if pl_1_marker == 'X':\n",
    "        clear_output\n",
    "        print(\"Pl 1 is 'X', Pl 2 is 'O'\")\n",
    "        return ('X','O')\n",
    "    \n",
    "    elif pl_1_marker == 'O':\n",
    "        clear_output\n",
    "        print(\"Pl 1 is 'O', Pl 2 is 'X'\")        \n",
    "        return('O','X')\n"
   ]
  },
  {
   "cell_type": "markdown",
   "metadata": {},
   "source": [
    "**TEST Step 2:** run the function to make sure it returns the desired output"
   ]
  },
  {
   "cell_type": "markdown",
   "metadata": {},
   "source": [
    "**Step 3: Write a function that takes in the board list object, a marker ('X' or 'O'), and a desired position (number 1-9) and assigns it to the board.**"
   ]
  },
  {
   "cell_type": "code",
   "execution_count": null,
   "metadata": {},
   "outputs": [],
   "source": [
    "def place_marker(board, marker, location): \n",
    "    \"\"\" puts the marker in user's selected location\"\"\"\n",
    "    \n",
    "    board[location] = marker\n",
    "    display_board(board)"
   ]
  },
  {
   "cell_type": "code",
   "execution_count": null,
   "metadata": {},
   "outputs": [],
   "source": [
    "place_marker('X',5)"
   ]
  },
  {
   "cell_type": "markdown",
   "metadata": {},
   "source": [
    "**TEST Step 3:** run the place marker function using test parameters and display the modified board"
   ]
  },
  {
   "cell_type": "code",
   "execution_count": null,
   "metadata": {},
   "outputs": [],
   "source": [
    "place_marker(test_board,'$',8)\n",
    "display_board(test_board)"
   ]
  },
  {
   "cell_type": "markdown",
   "metadata": {},
   "source": [
    "**Step 4: Write a function that takes in a board and a mark (X or O) and then checks to see if that mark has won. **"
   ]
  },
  {
   "cell_type": "code",
   "execution_count": null,
   "metadata": {},
   "outputs": [],
   "source": [
    "def win_check(board, marker):\n",
    "\n",
    "    win_index_space = [[1,2,3], [4,5,6], [7,8,9],\\\n",
    "                      [1,4,7], [2,5,8], [3,6,9],\\\n",
    "                      [1,5,9],[3,5,7]]\n",
    "    \n",
    "    for each_list in win_index_space:\n",
    "        a = each_list[0]\n",
    "        b = each_list[1]\n",
    "        c = each_list[2]\n",
    "        \n",
    "        if board[a] == marker and board[b] == marker and board[c] == marker:\n",
    "            print('Game Over!')\n",
    "            return True\n"
   ]
  },
  {
   "cell_type": "code",
   "execution_count": null,
   "metadata": {},
   "outputs": [],
   "source": [
    "win_check(state_board, 'X')"
   ]
  },
  {
   "cell_type": "code",
   "execution_count": null,
   "metadata": {},
   "outputs": [],
   "source": [
    "place_marker('X', 6)\n",
    "win_check(state_board, 'X')"
   ]
  },
  {
   "cell_type": "markdown",
   "metadata": {},
   "source": [
    "**TEST Step 4:** run the win_check function against our test_board - it should return True"
   ]
  },
  {
   "cell_type": "code",
   "execution_count": null,
   "metadata": {},
   "outputs": [],
   "source": [
    "win_check(test_board,'X')"
   ]
  },
  {
   "cell_type": "markdown",
   "metadata": {},
   "source": [
    "**Step 5: Write a function that uses the random module to randomly decide which player goes first. You may want to lookup random.randint() Return a string of which player went first.**"
   ]
  },
  {
   "cell_type": "code",
   "execution_count": null,
   "metadata": {},
   "outputs": [],
   "source": [
    "import random\n",
    "\n",
    "def choose_first():\n",
    "    pass"
   ]
  },
  {
   "cell_type": "markdown",
   "metadata": {},
   "source": [
    "**Step 6: Write a function that returns a boolean indicating whether a space on the board is freely available.**"
   ]
  },
  {
   "cell_type": "code",
   "execution_count": null,
   "metadata": {},
   "outputs": [],
   "source": [
    "def space_check(board, position):\n",
    "    \n",
    "    if board[position] == '-':\n",
    "        return True\n",
    "    \n",
    "    return False\n"
   ]
  },
  {
   "cell_type": "markdown",
   "metadata": {},
   "source": [
    "**Step 7: Write a function that checks if the board is full and returns a boolean value. True if full, False otherwise.**"
   ]
  },
  {
   "cell_type": "code",
   "execution_count": null,
   "metadata": {},
   "outputs": [],
   "source": [
    "def full_board_check(board):\n",
    "    \n",
    "    for i in range(1,11):\n",
    "        if board[i] == \"-\":\n",
    "            return False\n",
    "    \n",
    "    print(\"It's a draw!\")\n",
    "    return True"
   ]
  },
  {
   "cell_type": "markdown",
   "metadata": {},
   "source": [
    "**Step 8: Write a function that asks for a player's next position (as a number 1-9) and then uses the function from step 6 to check if it's a free position. If it is, then return the position for later use.**"
   ]
  },
  {
   "cell_type": "code",
   "execution_count": null,
   "metadata": {},
   "outputs": [],
   "source": [
    "def player_choice(board):\n",
    "    position = 'temp'\n",
    "    \n",
    "    while position not in ['1', '2', '3', '4', '5', '6', '7', '8', '9']  \\\n",
    "    or space_check(board, int(position)) == False:\n",
    "        position = input('Choose your next position: (1-9) ')\n",
    "        \n",
    "    return int(position) "
   ]
  },
  {
   "cell_type": "markdown",
   "metadata": {},
   "source": [
    "**Step 9: Write a function that asks the player if they want to play again and returns a boolean True if they do want to play again.**"
   ]
  },
  {
   "cell_type": "code",
   "execution_count": null,
   "metadata": {},
   "outputs": [],
   "source": [
    "def replay():\n",
    "    ans = input(\"If you would like to play again, hit 'Y'\")\n",
    "    if ans.upper() == 'Y':\n",
    "        return True\n",
    "    \n",
    "    return False"
   ]
  },
  {
   "cell_type": "markdown",
   "metadata": {
    "collapsed": true
   },
   "source": [
    "**Step 10: Here comes the hard part! Use while loops and the functions you've made to run the game!**"
   ]
  },
  {
   "cell_type": "code",
   "execution_count": null,
   "metadata": {},
   "outputs": [],
   "source": [
    "print('Welcome to Tic Tac Toe!')\n",
    "\n",
    "while True:\n",
    "    '''set up the game: markers, '''\n",
    "    pl_1_marker, pl_2_marker = marker_choice() #Returns markers as tuple\n",
    "    \n",
    "    '''play game: display board, player 1 chooses location'''\n",
    "    state_board = ['-']*10\n",
    "    num_board = [' ', '1', '2', '3', '4', '5', '6', '7', '8', '9']\n",
    "    \n",
    "    player = '1'\n",
    "    play = True\n",
    "    \n",
    "    while play:\n",
    "        if player == '1':\n",
    "            display_board(state_board)\n",
    "            display_board(num_board, board_type='Number')\n",
    "            print(\"Player 1: \")\n",
    "            num = player_choice(state_board)  #Outputs number selection\n",
    "            \n",
    "            \n",
    "            \n",
    "            #while not space_check(state_board, position = num):\n",
    "            #    num = player_choice(state_board)\n",
    "\n",
    "            place_marker(state_board, marker = pl_1_marker, location = num)\n",
    "            \n",
    "            if win_check(state_board, pl_1_marker):\n",
    "                print('You have won!')\n",
    "                play = False\n",
    "            \n",
    "            elif full_board_check(state_board):\n",
    "                print(\"It's a draw!\")\n",
    "                play = False\n",
    "            \n",
    "            else:\n",
    "                player = '2'\n",
    "\n",
    "\n",
    "        if player == '2':\n",
    "            display_board(state_board)\n",
    "            display_board(num_board, board_type = 'Number')\n",
    "            print(\"Player 2:\")\n",
    "            num = player_choice(state_board) \n",
    "            \n",
    "            #while not space_check(state_board, position = num):\n",
    "            #    num = player_choice(state_board)\n",
    "\n",
    "            place_marker(state_board, marker = pl_2_marker, location = num)\n",
    "            \n",
    "            if win_check(state_board, pl_2_marker):\n",
    "                print('You have won!')\n",
    "                play = False\n",
    "                \n",
    "            elif full_board_check(state_board):\n",
    "                print(\"It's a draw!\")\n",
    "                play = False\n",
    "            \n",
    "            else:\n",
    "                player = '1'\n",
    "    \n",
    "    replay = replay()\n",
    "    if not replay:\n",
    "        break"
   ]
  },
  {
   "cell_type": "code",
   "execution_count": null,
   "metadata": {},
   "outputs": [],
   "source": [
    "num = [range(1,10)]\n",
    "num"
   ]
  },
  {
   "cell_type": "markdown",
   "metadata": {
    "collapsed": true
   },
   "source": [
    "## Good Job!"
   ]
  }
 ],
 "metadata": {
  "kernelspec": {
   "display_name": "Python 3",
   "language": "python",
   "name": "python3"
  },
  "language_info": {
   "codemirror_mode": {
    "name": "ipython",
    "version": 3
   },
   "file_extension": ".py",
   "mimetype": "text/x-python",
   "name": "python",
   "nbconvert_exporter": "python",
   "pygments_lexer": "ipython3",
   "version": "3.7.6"
  }
 },
 "nbformat": 4,
 "nbformat_minor": 1
}
